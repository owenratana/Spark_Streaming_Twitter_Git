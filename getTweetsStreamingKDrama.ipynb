{
 "cells": [
  {
   "cell_type": "markdown",
   "id": "f6238c5d",
   "metadata": {},
   "source": [
    "# Get Tweets in Real Time using Twitter API\n",
    "\n",
    "Tweepy library is used to route all Live Tweets to a TCP socket server"
   ]
  },
  {
   "cell_type": "markdown",
   "id": "9bc460c6",
   "metadata": {},
   "source": [
    "Import tweepy"
   ]
  },
  {
   "cell_type": "code",
   "execution_count": null,
   "id": "2f6609dd",
   "metadata": {},
   "outputs": [],
   "source": [
    "import tweepy"
   ]
  },
  {
   "cell_type": "code",
   "execution_count": null,
   "id": "73f252f1",
   "metadata": {},
   "outputs": [],
   "source": [
    "#OAuthHandler is used for Authentication protocal of Twitter API\n",
    "from tweepy import OAuthHandler"
   ]
  },
  {
   "cell_type": "code",
   "execution_count": null,
   "id": "79a9789a",
   "metadata": {},
   "outputs": [],
   "source": [
    "# import library for listening streaming data getting from socket\n",
    "from tweepy import Stream\n",
    "from tweepy.streaming import StreamListener"
   ]
  },
  {
   "cell_type": "code",
   "execution_count": null,
   "id": "5fd183b5",
   "metadata": {},
   "outputs": [],
   "source": [
    "import socket\n",
    "import json"
   ]
  },
  {
   "cell_type": "code",
   "execution_count": null,
   "id": "7152c8aa",
   "metadata": {},
   "outputs": [],
   "source": [
    "consumer_key = 'rMC1x9CRxAbJWk8ykHkThMPE6'\n",
    "consumer_secret = 'IfG5ngeSNzxXdbCf4p16U30hqFvbfBWuP0Bi20tkGjE3q9WKru'\n",
    "access_token = '2880124621-SZpJHNhguo1VuXbDSfBkAwbTwVJoa5DY8RZ0LXg'\n",
    "access_secret = 'iTE2EgZoLWp6JRKBFvq6SuAz4ZzRO5sdaue5ejzxazNUl'"
   ]
  },
  {
   "cell_type": "markdown",
   "id": "d6a6637e",
   "metadata": {},
   "source": [
    "## Tweets Listener\n",
    "TweetsListener will receive live tweets from Stream and send tweets language to the TCP socket"
   ]
  },
  {
   "cell_type": "code",
   "execution_count": null,
   "id": "6d74bfad",
   "metadata": {},
   "outputs": [],
   "source": [
    "class TweetsListener(StreamListener):\n",
    "    def __init__(self, csocket):\n",
    "        self.client_socket = csocket\n",
    "    \n",
    "    def on_data(self, data):\n",
    "        try:\n",
    "            msg = json.loads(data)\n",
    "            #print(msg['created_at'].encode('utf-8'))\n",
    "            #print(msg['user']['name'].encode('utf-8')\n",
    "#             print(msg['created_at'].encode('utf-8'))\n",
    "#             self.client_socket.send((msg['created_at']).encode('utf-8'))\n",
    "            #if msg['place'] is not None:\n",
    "            print(msg['lang'].encode('utf-8'))\n",
    "            self.client_socket.send((msg['lang'] + '\\n').encode('utf-8'))\n",
    "            return True\n",
    "        except BaseException as e:\n",
    "            print('Error on_data: %s' % str(e))\n",
    "        return True\n",
    "    \n",
    "    def on_error(self, status):\n",
    "        print(status)\n",
    "        return True\n",
    "            "
   ]
  },
  {
   "cell_type": "markdown",
   "id": "a28ad625",
   "metadata": {},
   "source": [
    "## Stream\n",
    "Stream will get the live tweets from twitter and routes the tweets to the TweetsListener"
   ]
  },
  {
   "cell_type": "code",
   "execution_count": null,
   "id": "3e9e54e7",
   "metadata": {},
   "outputs": [],
   "source": [
    "def sendData(c_socket):\n",
    "    auth = OAuthHandler(consumer_key, consumer_secret)\n",
    "    auth.set_access_token(access_token, access_secret)\n",
    "    twitter_stream = Stream(auth, TweetsListener(c_socket))\n",
    "    twitter_stream.filter(track=['twentyfivetwentyone', 'businessproposal'])"
   ]
  },
  {
   "cell_type": "markdown",
   "id": "99e5075b",
   "metadata": {},
   "source": [
    "## Socket Creation\n",
    "1. Socket is created using socket function\n",
    "2. Host is localhost\n",
    "3. Bind host and port address to the socket"
   ]
  },
  {
   "cell_type": "code",
   "execution_count": null,
   "id": "d5a48cfd",
   "metadata": {},
   "outputs": [],
   "source": [
    "s = socket.socket()\n",
    "host = '127.0.0.1'\n",
    "port = 9880\n",
    "s.bind((host,port))\n",
    "print('Listening on port: %s' % str(port))"
   ]
  },
  {
   "cell_type": "code",
   "execution_count": null,
   "id": "c5e657fe",
   "metadata": {},
   "outputs": [],
   "source": [
    "s.listen(5)\n",
    "c, addr = s.accept()\n",
    "print('Received request from : ' + str(addr))"
   ]
  },
  {
   "cell_type": "markdown",
   "id": "79c62d8e",
   "metadata": {},
   "source": [
    "## Send live tweets in real time to the socket\n",
    "Function sendData will send all the Tweets relating to trending Korean drama to socket 'c' in real time.\n",
    "This will be consumed by Spark"
   ]
  },
  {
   "cell_type": "code",
   "execution_count": null,
   "id": "60c0be1a",
   "metadata": {},
   "outputs": [],
   "source": [
    "sendData(c)"
   ]
  },
  {
   "cell_type": "code",
   "execution_count": null,
   "id": "1dc9f80f",
   "metadata": {},
   "outputs": [],
   "source": [
    "s.close()"
   ]
  },
  {
   "cell_type": "code",
   "execution_count": null,
   "id": "14d3113a",
   "metadata": {},
   "outputs": [],
   "source": []
  }
 ],
 "metadata": {
  "kernelspec": {
   "display_name": "Python 3 (ipykernel)",
   "language": "python",
   "name": "python3"
  },
  "language_info": {
   "codemirror_mode": {
    "name": "ipython",
    "version": 3
   },
   "file_extension": ".py",
   "mimetype": "text/x-python",
   "name": "python",
   "nbconvert_exporter": "python",
   "pygments_lexer": "ipython3",
   "version": "3.8.2"
  }
 },
 "nbformat": 4,
 "nbformat_minor": 5
}
